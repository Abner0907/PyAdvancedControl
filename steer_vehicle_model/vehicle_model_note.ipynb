{
 "cells": [
  {
   "cell_type": "markdown",
   "metadata": {
    "toc": "true"
   },
   "source": [
    "# Table of Contents\n",
    " <p><div class=\"lev1\"><a href=\"#Unicycle-Model\"><span class=\"toc-item-num\">1&nbsp;&nbsp;</span>Unicycle Model</a></div>"
   ]
  },
  {
   "cell_type": "markdown",
   "metadata": {},
   "source": [
    "# Unicycle Model\n",
    "\n",
    "非常にシンプルなモデル。\n",
    "シンプルだが、速度ベクトルが車両の進行方向と同じなので少し無理がある\n",
    "\n",
    "$$\n",
    "x_{k+1} = x_{k} + v_k cos(\\phi_k)dt \\\\\n",
    "y_{k+1} = y_{k} + v_k sin(\\phi_k)dt \\\\\n",
    "\\phi_{k+1} = \\phi_{k} + \\frac{v_{k}}{L}tan(\\delta_t) \\\\\n",
    "v_{k+1} = v_{k} + a_k dt \\\\\n",
    "$$"
   ]
  }
 ],
 "metadata": {
  "hide_input": false,
  "kernelspec": {
   "display_name": "Python [Root]",
   "language": "python",
   "name": "Python [Root]"
  },
  "language_info": {
   "codemirror_mode": {
    "name": "ipython",
    "version": 3
   },
   "file_extension": ".py",
   "mimetype": "text/x-python",
   "name": "python",
   "nbconvert_exporter": "python",
   "pygments_lexer": "ipython3",
   "version": "3.5.1"
  },
  "toc": {
   "toc_cell": true,
   "toc_number_sections": true,
   "toc_threshold": 6,
   "toc_window_display": false
  }
 },
 "nbformat": 4,
 "nbformat_minor": 0
}
